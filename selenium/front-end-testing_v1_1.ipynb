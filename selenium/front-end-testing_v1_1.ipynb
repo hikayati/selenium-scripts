{
 "cells": [
  {
   "cell_type": "markdown",
   "id": "6b2d5bb1",
   "metadata": {},
   "source": [
    "### Starting Chrome Driver"
   ]
  },
  {
   "cell_type": "code",
   "execution_count": null,
   "id": "59ffeece",
   "metadata": {},
   "outputs": [],
   "source": [
    "# from selenium.webdriver.common.by import By\n",
    "# from selenium.webdriver.support.ui import WebDriverWait\n",
    "# from selenium.webdriver.support import expected_conditions as EC\n",
    "# WebDriverWait(driver, 1).until(EC.element_to_be_clickable((By.CSS_SELECTOR, \"div.flipbook img\")))\n",
    "\n",
    "import warnings\n",
    "warnings.filterwarnings(\"ignore\")\n",
    "\n",
    "from selenium import webdriver\n",
    "from selenium.webdriver.common.keys import Keys\n",
    "import time\n",
    "#driver = webdriver.Chrome(\"./chromedriver/chromedriver\")\n",
    "\n",
    "options = webdriver.ChromeOptions()\n",
    "options.add_argument('ignore-certificate-errors')\n",
    "\n",
    "driver = webdriver.Chrome( \"./chromedriver/chromedriver\", chrome_options=options)"
   ]
  },
  {
   "cell_type": "markdown",
   "id": "b95ff88f",
   "metadata": {},
   "source": [
    "### Home Page"
   ]
  },
  {
   "cell_type": "code",
   "execution_count": 277,
   "id": "c0d4a267",
   "metadata": {},
   "outputs": [],
   "source": [
    "driver.get(\"https://new.hekayati.com/\")\n",
    "#driver.close()"
   ]
  },
  {
   "cell_type": "code",
   "execution_count": 278,
   "id": "31fb115f",
   "metadata": {
    "scrolled": true
   },
   "outputs": [],
   "source": [
    "elem = driver.find_element_by_id(\"#hekayati-header\")\n",
    "elem = driver.find_element_by_id(\"#hekayati-footer\")"
   ]
  },
  {
   "cell_type": "code",
   "execution_count": 279,
   "id": "0240de4b",
   "metadata": {},
   "outputs": [
    {
     "data": {
      "text/plain": [
       "'https://new.hekayati.com/product/falcon/'"
      ]
     },
     "execution_count": 279,
     "metadata": {},
     "output_type": "execute_result"
    }
   ],
   "source": [
    "elem = driver.find_element_by_css_selector(\"#hekayati-homepage-product a\")\n",
    "\n",
    "product_url = elem.get_attribute('href')\n",
    "product_url"
   ]
  },
  {
   "cell_type": "markdown",
   "id": "a4295531",
   "metadata": {},
   "source": [
    "### Preview "
   ]
  },
  {
   "cell_type": "code",
   "execution_count": 280,
   "id": "5448c342",
   "metadata": {},
   "outputs": [],
   "source": [
    "driver.get(product_url)"
   ]
  },
  {
   "cell_type": "code",
   "execution_count": 281,
   "id": "e39b955b",
   "metadata": {},
   "outputs": [],
   "source": [
    "elem = driver.find_element_by_css_selector(\"#wcpa-radio-group-1639983259502 > div > div:nth-child(1) > label\")\n",
    "\n",
    "elem.click()"
   ]
  },
  {
   "cell_type": "code",
   "execution_count": 282,
   "id": "bf1ce6df",
   "metadata": {},
   "outputs": [],
   "source": [
    "elem = driver.find_element_by_css_selector(\"#wcpa-radio-group-1639983384844 > div > div:nth-child(1) > label\")\n",
    "\n",
    "elem.click()"
   ]
  },
  {
   "cell_type": "code",
   "execution_count": 283,
   "id": "85096718",
   "metadata": {},
   "outputs": [],
   "source": [
    "elem = driver.find_element_by_css_selector(\"input#name.fill_inited\")\n",
    "elem.send_keys(\"Ali\")"
   ]
  },
  {
   "cell_type": "code",
   "execution_count": 284,
   "id": "043d7a9a",
   "metadata": {},
   "outputs": [],
   "source": [
    "elem = driver.find_element_by_css_selector(\"input#lname.fill_inited\")\n",
    "elem.send_keys(\"Musa\")"
   ]
  },
  {
   "cell_type": "code",
   "execution_count": 285,
   "id": "57033e4e",
   "metadata": {},
   "outputs": [],
   "source": [
    "elem = driver.find_element_by_css_selector(\"#wcpa-image-group-1639983881318 > div > div:nth-child(2) > img\")\n",
    "elem.click()"
   ]
  },
  {
   "cell_type": "code",
   "execution_count": 286,
   "id": "ddb30756",
   "metadata": {
    "scrolled": true
   },
   "outputs": [],
   "source": [
    "elem = driver.find_element_by_css_selector(\"button.generatebook\")\n",
    "elem.click()"
   ]
  },
  {
   "cell_type": "code",
   "execution_count": 287,
   "id": "27bec256",
   "metadata": {
    "scrolled": true
   },
   "outputs": [
    {
     "name": "stdout",
     "output_type": "stream",
     "text": [
      "Waiting for preview loading....\n"
     ]
    },
    {
     "data": {
      "text/plain": [
       "<selenium.webdriver.remote.webelement.WebElement (session=\"2b0c3bab2bd7f7b929a92c39a96038c3\", element=\"3a013cfa-12e2-4b34-a54c-a1139271a140\")>"
      ]
     },
     "execution_count": 287,
     "metadata": {},
     "output_type": "execute_result"
    }
   ],
   "source": [
    "driver.switch_to.frame(driver.find_element_by_name(\"frame2\"))\n",
    "print(\"Waiting for preview loading....\")\n",
    "time.sleep(10)\n",
    "driver.find_element_by_css_selector(\"div.flipbook img\")"
   ]
  },
  {
   "cell_type": "code",
   "execution_count": 288,
   "id": "751dddde",
   "metadata": {},
   "outputs": [],
   "source": [
    "driver.switch_to.default_content()"
   ]
  },
  {
   "cell_type": "code",
   "execution_count": 289,
   "id": "0b8529e9",
   "metadata": {},
   "outputs": [],
   "source": [
    "driver.find_elements_by_css_selector(\"button#nextBtn\")[-1].click()"
   ]
  },
  {
   "cell_type": "code",
   "execution_count": 290,
   "id": "120f0b4f",
   "metadata": {},
   "outputs": [],
   "source": [
    "driver.find_element_by_css_selector(\"div.acceptcondition.borderbox > label\").click()"
   ]
  },
  {
   "cell_type": "code",
   "execution_count": 291,
   "id": "aa5a288f",
   "metadata": {},
   "outputs": [],
   "source": [
    "driver.find_element_by_css_selector(\"div.button_next > span > button.addtocartform\").click()"
   ]
  },
  {
   "cell_type": "code",
   "execution_count": 293,
   "id": "0431cde5",
   "metadata": {},
   "outputs": [],
   "source": [
    "time.sleep(10)\n",
    "driver.find_element_by_css_selector(\"div.button_next > button.gotocart\").click()"
   ]
  },
  {
   "cell_type": "code",
   "execution_count": 294,
   "id": "d0582115",
   "metadata": {},
   "outputs": [],
   "source": [
    "driver.find_element_by_css_selector(\"div.cart-collaterals > div > div > a\").click()"
   ]
  },
  {
   "cell_type": "markdown",
   "id": "16323e2e",
   "metadata": {},
   "source": [
    "### Placing Order"
   ]
  },
  {
   "cell_type": "code",
   "execution_count": 295,
   "id": "1d7d43e0",
   "metadata": {},
   "outputs": [],
   "source": [
    "elem = driver.find_element_by_css_selector(\"#billing_first_name\")\n",
    "elem.clear()\n",
    "elem.send_keys(\"selenium\")"
   ]
  },
  {
   "cell_type": "code",
   "execution_count": 296,
   "id": "86593b04",
   "metadata": {},
   "outputs": [],
   "source": [
    "elem = driver.find_element_by_css_selector(\"#billing_last_name\")\n",
    "elem.clear()\n",
    "elem.send_keys(\"selenium\")"
   ]
  },
  {
   "cell_type": "code",
   "execution_count": 297,
   "id": "dd9ffb5f",
   "metadata": {},
   "outputs": [],
   "source": [
    "elem = driver.find_element_by_css_selector(\"#billing_company\")\n",
    "elem.clear()\n",
    "elem.send_keys(\"selenium\")"
   ]
  },
  {
   "cell_type": "code",
   "execution_count": 298,
   "id": "80356f1f",
   "metadata": {},
   "outputs": [],
   "source": [
    "# from selenium.webdriver.support.ui import Select\n",
    "# sel = Select( driver.find_element_by_css_selector(\"#billing_country\") )"
   ]
  },
  {
   "cell_type": "code",
   "execution_count": 299,
   "id": "03e4e191",
   "metadata": {},
   "outputs": [],
   "source": [
    "\n",
    "elem = driver.find_element_by_css_selector(\"#billing_address_1\")\n",
    "elem.clear()\n",
    "elem.send_keys(\"selenium python nagar, linux states\")\n",
    "\n",
    "elem = driver.find_element_by_css_selector(\"#billing_address_2\")\n",
    "elem.clear()\n",
    "elem.send_keys(\"selenium python nagar, linux states\")"
   ]
  },
  {
   "cell_type": "code",
   "execution_count": 300,
   "id": "99976b28",
   "metadata": {},
   "outputs": [],
   "source": [
    "elem = driver.find_element_by_css_selector(\"#billing_city\")\n",
    "elem.clear()\n",
    "elem.send_keys(\"selenium\")"
   ]
  },
  {
   "cell_type": "code",
   "execution_count": 301,
   "id": "a9e9efc4",
   "metadata": {},
   "outputs": [],
   "source": [
    "elem = driver.find_element_by_css_selector(\"#billing_postcode\")\n",
    "elem.clear()\n",
    "elem.send_keys(\"46000\")"
   ]
  },
  {
   "cell_type": "code",
   "execution_count": 302,
   "id": "c08bb20d",
   "metadata": {},
   "outputs": [],
   "source": [
    "elem = driver.find_element_by_css_selector(\"#billing_phone\")\n",
    "elem.clear()\n",
    "elem.send_keys(\"+933321407846\")"
   ]
  },
  {
   "cell_type": "code",
   "execution_count": 303,
   "id": "eaf04e65",
   "metadata": {},
   "outputs": [],
   "source": [
    "elem = driver.find_element_by_css_selector(\"#billing_email\")\n",
    "elem.clear()\n",
    "elem.send_keys(\"shahwaiz055@gmail.com\")"
   ]
  },
  {
   "cell_type": "code",
   "execution_count": 305,
   "id": "86af8d2c",
   "metadata": {},
   "outputs": [],
   "source": [
    "time.sleep(10)\n",
    "driver.find_element_by_css_selector(\"#place_order\").click()"
   ]
  },
  {
   "cell_type": "code",
   "execution_count": 306,
   "id": "bbcbcad3",
   "metadata": {},
   "outputs": [
    {
     "name": "stdout",
     "output_type": "stream",
     "text": [
      "O.K! Order placed successfully\n"
     ]
    }
   ],
   "source": [
    "if \"Thank you. Your order has been received.\" in driver.page_source:\n",
    "    print(\"O.K! Order placed successfully\")"
   ]
  },
  {
   "cell_type": "code",
   "execution_count": null,
   "id": "48af2d09",
   "metadata": {},
   "outputs": [],
   "source": []
  }
 ],
 "metadata": {
  "kernelspec": {
   "display_name": "Python 3 (ipykernel)",
   "language": "python",
   "name": "python3"
  },
  "language_info": {
   "codemirror_mode": {
    "name": "ipython",
    "version": 3
   },
   "file_extension": ".py",
   "mimetype": "text/x-python",
   "name": "python",
   "nbconvert_exporter": "python",
   "pygments_lexer": "ipython3",
   "version": "3.7.12"
  }
 },
 "nbformat": 4,
 "nbformat_minor": 5
}
