{
 "cells": [
  {
   "cell_type": "code",
   "execution_count": 129,
   "id": "7a46fc12",
   "metadata": {},
   "outputs": [],
   "source": [
    "import warnings\n",
    "warnings.filterwarnings(\"ignore\")\n",
    "from selenium import webdriver\n",
    "import time\n",
    "options = webdriver.ChromeOptions()\n",
    "options.add_argument('--start-maximized')\n",
    "options.add_argument('ignore-certificate-errors')\n",
    "driver = webdriver.Chrome( \"./chromedriver/chromedriver\", chrome_options=options)"
   ]
  },
  {
   "cell_type": "code",
   "execution_count": 130,
   "id": "2a8e830b",
   "metadata": {},
   "outputs": [],
   "source": [
    "driver.get(\"file:///home/sniper/work/hekayati_backend/data/content/books/like-my-name/page1/index.html\")"
   ]
  },
  {
   "cell_type": "code",
   "execution_count": 132,
   "id": "6c8a96c2",
   "metadata": {},
   "outputs": [
    {
     "data": {
      "text/plain": [
       "True"
      ]
     },
     "execution_count": 132,
     "metadata": {},
     "output_type": "execute_result"
    }
   ],
   "source": [
    "driver.save_screenshot(\"new_png.png\")"
   ]
  },
  {
   "cell_type": "code",
   "execution_count": 126,
   "id": "eae21a08",
   "metadata": {},
   "outputs": [],
   "source": [
    "# elem = driver.find_element_by_css_selector(\"div.global_container_\").screenshot_as_png"
   ]
  },
  {
   "cell_type": "code",
   "execution_count": 127,
   "id": "f787f5af",
   "metadata": {},
   "outputs": [],
   "source": [
    "# with open(\"./image.png\", \"wb\") as f:\n",
    "#     f.write(elem)"
   ]
  },
  {
   "cell_type": "code",
   "execution_count": 128,
   "id": "f6f27283",
   "metadata": {},
   "outputs": [],
   "source": [
    "driver.execute_script(\"document.body.style.zoom=25\")"
   ]
  },
  {
   "cell_type": "code",
   "execution_count": 67,
   "id": "04db38ac",
   "metadata": {},
   "outputs": [],
   "source": [
    "driver.quit()"
   ]
  },
  {
   "cell_type": "markdown",
   "id": "da3d4922",
   "metadata": {},
   "source": [
    "### Jinaj2 Templating"
   ]
  },
  {
   "cell_type": "code",
   "execution_count": 28,
   "id": "82912d1d",
   "metadata": {},
   "outputs": [],
   "source": [
    "import jinja2\n",
    "\n",
    "page_content = \"\"\"<!doctype html>\n",
    "<html>\n",
    "  <head>\n",
    "    <title>Your site's title should be here</title>\n",
    "    <meta charset=\"UTF-8\">\n",
    "    <meta name=\"description\" content=\"Your site's description should be here\">\n",
    "    <meta name=\"keywords\" content=\"Your site's keywords should be here\">\n",
    "    <meta name=\"viewport\" content=\"width=device-width,initial-scale=1\">\n",
    "    <meta http-equiv=\"X-UA-Compatible\" content=\"IE=Edge\">\n",
    "    <!--[if IE 6]>\n",
    "\t<style type=\"text/css\">\n",
    "\t\t* html .group {\n",
    "\t\t\theight: 1%;\n",
    "\t\t}\n",
    "\t</style>\n",
    "  <![endif]--> \n",
    "    <!--[if IE 7]>\n",
    "\t<style type=\"text/css\">\n",
    "\t\t*:first-child+html .group {\n",
    "\t\t\tmin-height: 1px;\n",
    "\t\t}\n",
    "\t</style>\n",
    "  <![endif]--> \n",
    "    <!--[if lt IE 9]> \n",
    "\t<script src=\"https://cdnjs.cloudflare.com/ajax/libs/html5shiv/3.7.3/html5shiv.min.js\"></script> \n",
    "  <![endif]-->   \n",
    "\n",
    "  <style type=\"text/css\">\n",
    "    body {\n",
    "      color: #000000;\n",
    "      /*demo!xnIVN5G1Bb1b5B*/\n",
    "      font-size: 0.75rem; /* 12px / 16px = 0.75rem */\n",
    "      font-style: normal;\n",
    "      font-weight: normal;\n",
    "      letter-spacing: 0;\n",
    "      text-decoration: none;\n",
    "      background: url( {{ characters[0][\"background\"]  }} ) no-repeat !important;\n",
    "      background-size: cover;\n",
    "      width: 2500px;\n",
    "      height: 1900px;\n",
    "  }\n",
    "\n",
    "  </style>\n",
    "\n",
    "  </head>\n",
    "\n",
    "  <body>\n",
    "    <div>\n",
    "  \t  \n",
    "\t    <h1>{{ characters[0][\"gender\"][\"text\"] }}</h1>\n",
    "\n",
    "  <!---->\n",
    "      <img class=\"kid-2\" src={{ characters[0][\"avatar\"] }} alt=\"\" width=\"200\" height=\"200\">\n",
    "    </div>\n",
    "  </body>\n",
    "</html>\n",
    "\"\"\"\n",
    "\n",
    "\n",
    "# Use the string to create a jinja template\n",
    "jinja_template = jinja2.Template(\n",
    "    page_content\n",
    ")\n",
    "\n",
    "# Render it by passing the data\n",
    "# to the template\n",
    "\n",
    "characters  = [\n",
    "    {\n",
    "        \"gender\" : { \"text\" : \"Hola\" },\n",
    "        \"avatar\" : \"1.png\",\n",
    "        \"background\" : \"1.png\"\n",
    "    }\n",
    "]\n",
    "\n",
    "html_string = jinja_template.render(\n",
    "    characters = characters\n",
    ")"
   ]
  },
  {
   "cell_type": "code",
   "execution_count": 29,
   "id": "343003a2",
   "metadata": {},
   "outputs": [
    {
     "data": {
      "text/plain": [
       "[{'gender': {'text': 'Hola'}, 'avatar': '1.png', 'background': '1.png'}]"
      ]
     },
     "execution_count": 29,
     "metadata": {},
     "output_type": "execute_result"
    }
   ],
   "source": [
    "characters"
   ]
  },
  {
   "cell_type": "code",
   "execution_count": 30,
   "id": "4b6664b1",
   "metadata": {},
   "outputs": [],
   "source": [
    "# from IPython.display import display_html\n",
    "# display_html(html_string, raw=True)"
   ]
  },
  {
   "cell_type": "code",
   "execution_count": 31,
   "id": "e542dba8",
   "metadata": {},
   "outputs": [
    {
     "name": "stdout",
     "output_type": "stream",
     "text": [
      "<!doctype html>\n",
      "<html>\n",
      "  <head>\n",
      "    <title>Your site's title should be here</title>\n",
      "    <meta charset=\"UTF-8\">\n",
      "    <meta name=\"description\" content=\"Your site's description should be here\">\n",
      "    <meta name=\"keywords\" content=\"Your site's keywords should be here\">\n",
      "    <meta name=\"viewport\" content=\"width=device-width,initial-scale=1\">\n",
      "    <meta http-equiv=\"X-UA-Compatible\" content=\"IE=Edge\">\n",
      "    <!--[if IE 6]>\n",
      "\t<style type=\"text/css\">\n",
      "\t\t* html .group {\n",
      "\t\t\theight: 1%;\n",
      "\t\t}\n",
      "\t</style>\n",
      "  <![endif]--> \n",
      "    <!--[if IE 7]>\n",
      "\t<style type=\"text/css\">\n",
      "\t\t*:first-child+html .group {\n",
      "\t\t\tmin-height: 1px;\n",
      "\t\t}\n",
      "\t</style>\n",
      "  <![endif]--> \n",
      "    <!--[if lt IE 9]> \n",
      "\t<script src=\"https://cdnjs.cloudflare.com/ajax/libs/html5shiv/3.7.3/html5shiv.min.js\"></script> \n",
      "  <![endif]-->   \n",
      "\n",
      "  <style type=\"text/css\">\n",
      "    body {\n",
      "      color: #000000;\n",
      "      /*demo!xnIVN5G1Bb1b5B*/\n",
      "      font-size: 0.75rem; /* 12px / 16px = 0.75rem */\n",
      "      font-style: normal;\n",
      "      font-weight: normal;\n",
      "      letter-spacing: 0;\n",
      "      text-decoration: none;\n",
      "      background: url( 1.png ) no-repeat !important;\n",
      "      background-size: cover;\n",
      "      width: 2500px;\n",
      "      height: 1900px;\n",
      "  }\n",
      "\n",
      "  </style>\n",
      "\n",
      "  </head>\n",
      "\n",
      "  <body>\n",
      "    <div>\n",
      "  \t  \n",
      "\t    <h1>Hola</h1>\n",
      "\n",
      "  <!---->\n",
      "      <img class=\"kid-2\" src=1.png alt=\"\" width=\"200\" height=\"200\">\n",
      "    </div>\n",
      "  </body>\n",
      "</html>\n"
     ]
    }
   ],
   "source": [
    "print ( html_string )"
   ]
  },
  {
   "cell_type": "code",
   "execution_count": null,
   "id": "be38168a",
   "metadata": {},
   "outputs": [],
   "source": []
  }
 ],
 "metadata": {
  "kernelspec": {
   "display_name": "Python 3 (ipykernel)",
   "language": "python",
   "name": "python3"
  },
  "language_info": {
   "codemirror_mode": {
    "name": "ipython",
    "version": 3
   },
   "file_extension": ".py",
   "mimetype": "text/x-python",
   "name": "python",
   "nbconvert_exporter": "python",
   "pygments_lexer": "ipython3",
   "version": "3.7.12"
  }
 },
 "nbformat": 4,
 "nbformat_minor": 5
}
