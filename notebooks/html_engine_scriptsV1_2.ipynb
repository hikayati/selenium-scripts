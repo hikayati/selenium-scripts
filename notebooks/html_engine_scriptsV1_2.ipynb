{
 "cells": [
  {
   "cell_type": "code",
   "execution_count": 1,
   "id": "1fea9841",
   "metadata": {},
   "outputs": [],
   "source": [
    "j = \"\"\"\n",
    "{\n",
    "  \"book_name\": \"like-my-name\",\n",
    "  \"book_type\" : \"hybrid\",\n",
    "  \"background_style\" : [],\n",
    "  \"style\" : [],\n",
    "  \"style_behaviour\" : \"inherit\",\n",
    "  \"templates\": [\n",
    "      {\n",
    "        \"template_index\": \"1\",\n",
    "        \"template_tag\" : \"cover|dedication|letterA|etc...\",\n",
    "        \"template_gendering_logic\" : \"\",\n",
    "        \"requireText\": true,\n",
    "        \"name_case\": \"upper\",\n",
    "        \"background\" : \"1.jpg\",\n",
    "        \"font_size\" : 20,\n",
    "        \"font_color\" : \"black\",\n",
    "        \"font_style\" : \"normal\",\n",
    "        \"font_family\" : \"BerlinSansFBDemi/BerlinSansFBDemiBold.ttf\",\n",
    "        \"background_style\" : [\n",
    "            \"background: url({background}) center center fixed;\",\n",
    "            \"color: #000000;\",\n",
    "            \"font-size: 0.75rem;\",\n",
    "            \"font-style: normal;\",\n",
    "            \"font-weight: normal;\",\n",
    "            \"letter-spacing: 0;\",\n",
    "            \"text-decoration: none;\",\n",
    "            \"width: 2500px;\",\n",
    "            \"height: 1900px;\",\n",
    "            \"-webkit-background-size: cover;\",\n",
    "            \"-moz-background-size: cover;\",\n",
    "            \"-o-background-size: cover;\",\n",
    "            \"background-size: cover;\" \n",
    "        ],\n",
    "        \"elements\" : [\n",
    "          {\n",
    "            \"character\":[\n",
    "              {\n",
    "                \"type\" : \"avatar\",\n",
    "                \"image_name\" : \"1\",\n",
    "                \"style\" : [ \"position:static;\", \"right:30px;\"]\n",
    "              },            \n",
    "              {\n",
    "                \"type\" : \"text\",\n",
    "                \"tag_name\" : \"p\",\n",
    "                \"style\" : [ \"position:static;\", \"top:30px;\"],\n",
    "                \"script\" : {\n",
    "                  \"boy\" : [\n",
    "                      {\n",
    "                          \"text\" : \"Hello {first_name}\",\n",
    "                          \"style\" : [\"font-size:100px\"],\n",
    "                          \"tag_name\" : \"p\"\n",
    "                      }\n",
    "                  ],\n",
    "                  \"girl\" : [\n",
    "                      {\n",
    "                          \"text\" : \"Hello {first_name}\",\n",
    "                          \"style\" : [\"font-size:100px\"],\n",
    "                          \"tag_name\" : \"p\"\n",
    "                      }\n",
    "                  ]\n",
    "                }\n",
    "              }\n",
    "            ]\n",
    "          }\n",
    "        ]\n",
    "      }\n",
    "  ]\n",
    "}\n",
    "\"\"\""
   ]
  },
  {
   "cell_type": "code",
   "execution_count": 2,
   "id": "9d8ea1b8",
   "metadata": {},
   "outputs": [],
   "source": [
    "import json\n",
    "full_book_json = json.loads(j)"
   ]
  },
  {
   "cell_type": "code",
   "execution_count": 3,
   "id": "6f533e5b",
   "metadata": {
    "scrolled": true
   },
   "outputs": [
    {
     "data": {
      "text/plain": [
       "{'book_name': 'like-my-name',\n",
       " 'book_type': 'hybrid',\n",
       " 'background_style': [],\n",
       " 'style': [],\n",
       " 'style_behaviour': 'inherit',\n",
       " 'templates': [{'template_index': '1',\n",
       "   'template_tag': 'cover|dedication|letterA|etc...',\n",
       "   'template_gendering_logic': '',\n",
       "   'requireText': True,\n",
       "   'name_case': 'upper',\n",
       "   'background': '1.jpg',\n",
       "   'font_size': 20,\n",
       "   'font_color': 'black',\n",
       "   'font_style': 'normal',\n",
       "   'font_family': 'BerlinSansFBDemi/BerlinSansFBDemiBold.ttf',\n",
       "   'background_style': ['background: url({background}) center center fixed;',\n",
       "    'color: #000000;',\n",
       "    'font-size: 0.75rem;',\n",
       "    'font-style: normal;',\n",
       "    'font-weight: normal;',\n",
       "    'letter-spacing: 0;',\n",
       "    'text-decoration: none;',\n",
       "    'width: 2500px;',\n",
       "    'height: 1900px;',\n",
       "    '-webkit-background-size: cover;',\n",
       "    '-moz-background-size: cover;',\n",
       "    '-o-background-size: cover;',\n",
       "    'background-size: cover;'],\n",
       "   'elements': [{'character': [{'type': 'avatar',\n",
       "       'image_name': '1',\n",
       "       'style': ['position:static;', 'right:30px;']},\n",
       "      {'type': 'text',\n",
       "       'tag_name': 'p',\n",
       "       'style': ['position:static;', 'top:30px;'],\n",
       "       'script': {'boy': [{'text': 'Hello {first_name}',\n",
       "          'style': ['font-size:100px'],\n",
       "          'tag_name': 'p'}],\n",
       "        'girl': [{'text': 'Hello {first_name}',\n",
       "          'style': ['font-size:100px'],\n",
       "          'tag_name': 'p'}]}}]}]}]}"
      ]
     },
     "execution_count": 3,
     "metadata": {},
     "output_type": "execute_result"
    }
   ],
   "source": [
    "full_book_json"
   ]
  },
  {
   "cell_type": "code",
   "execution_count": null,
   "id": "3ff6d7c7",
   "metadata": {},
   "outputs": [],
   "source": [
    "\"\"\"\n",
    "1. Add font_family, font_color and everything related to font to sublevel of element of type:text\n",
    "\n",
    "First of all add @font-face in css from the font-family, from whole json, and then convert that \n",
    "font-family to only name instead of relative path. Do not add full path yet, it will be done by compile function.\n",
    "\n",
    "Second \n",
    "\n",
    "\"\"\""
   ]
  },
  {
   "cell_type": "code",
   "execution_count": null,
   "id": "05338ac0",
   "metadata": {},
   "outputs": [],
   "source": [
    "\"\"\"\n",
    "We dediced that complicated css will be hard coded inside the json,\n",
    "because it provide extra complexity which is not needed.\n",
    "\"\"\"\n",
    "\n",
    "for page in full_book_json['templates']:\n",
    "    \"\"\"Now we are on page level so now update the style based on \"\"\"\n",
    "    \n",
    "    "
   ]
  }
 ],
 "metadata": {
  "kernelspec": {
   "display_name": "Python 3 (ipykernel)",
   "language": "python",
   "name": "python3"
  },
  "language_info": {
   "codemirror_mode": {
    "name": "ipython",
    "version": 3
   },
   "file_extension": ".py",
   "mimetype": "text/x-python",
   "name": "python",
   "nbconvert_exporter": "python",
   "pygments_lexer": "ipython3",
   "version": "3.7.12"
  }
 },
 "nbformat": 4,
 "nbformat_minor": 5
}
