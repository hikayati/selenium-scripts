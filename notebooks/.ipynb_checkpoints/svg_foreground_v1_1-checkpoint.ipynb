{
 "cells": [
  {
   "cell_type": "code",
   "execution_count": 21,
   "id": "b3819661",
   "metadata": {},
   "outputs": [],
   "source": [
    "import pyvips\n",
    "\n",
    "# svg_image_data = pyvips.Image.svgload_buffer( svg_book_content.encode('utf-8'), dpi=300 )\n",
    "\n",
    "# data = svg_image_data.write_to_buffer('.JPEG', Q=10)\n"
   ]
  },
  {
   "cell_type": "code",
   "execution_count": 66,
   "id": "a7c6d3b2",
   "metadata": {},
   "outputs": [],
   "source": [
    "# with open(\"./poem.svg\", \"r\", encoding=\"utf8\" ) as f:\n",
    "#     svg_book_content = f.read()\n",
    "# svg_image_data = pyvips.Image.svgload_buffer( svg_book_content.encode('utf-8'), dpi=300 )\n",
    "# svg_image_data.write_to_file(\"svg_1.png\")"
   ]
  },
  {
   "cell_type": "code",
   "execution_count": 190,
   "id": "1a540055",
   "metadata": {},
   "outputs": [],
   "source": [
    "svg_book_content = \"\"\"\n",
    "<svg xmlns=\"http://www.w3.org/2000/svg\"\n",
    "     xml:lang=\"en-GB\" width=\"250\" height=\"100\" >\n",
    "    <title>How Doth the Little Crocodile - Lewis Carroll</title>\n",
    "    <desc>From Alice in Wonderland</desc>\n",
    "    <style>\n",
    "        text {        \n",
    "            font-size : 8px;        \n",
    "        }\n",
    "    </style>\n",
    "    <text class=\"verse\">\n",
    "    \n",
    "        {% if 'arabic' in language %}        \n",
    "            <tspan dy=\"1.2em\" x=\"10\"></tspan>               \n",
    "        {% endif %}\n",
    "        \n",
    "        {% if 'english' in language %}        \n",
    "            <tspan dy=\"1.2em\" x=\"5\">Opposite team players are getting closer to block him! {name} dribbles</tspan>               \n",
    "        {% endif %}        \n",
    "\n",
    "\n",
    "        {% if 'arabic' in language %}        \n",
    "                    <tspan dy=\"1.2em\" x=\"10\" dx=\"1em\"\n",
    "                   >تحسين ذيله اللامع،</tspan>                  \n",
    "        {% endif %}\n",
    "\n",
    "        {% if 'english' in language %}\n",
    "            <tspan dy=\"1.2em\" x=\"5\"\n",
    "                   >past the defender. He can see the goal clearly. He is ready to take a shot!</tspan>          \n",
    "        {% endif %}\n",
    "        \n",
    "        \n",
    "      </text>\n",
    "    </svg>\"\"\"\n"
   ]
  },
  {
   "cell_type": "code",
   "execution_count": 191,
   "id": "62e04675",
   "metadata": {},
   "outputs": [],
   "source": [
    "import jinja2\n",
    "\n",
    "# Use the string to create a jinja template\n",
    "jinja_template = jinja2.Template(\n",
    "    svg_book_content\n",
    ")\n",
    "\n",
    "# Render it by passing the data\n",
    "# to the template\n",
    "svg_string = jinja_template.render(\n",
    "    language='english'\n",
    ")"
   ]
  },
  {
   "cell_type": "code",
   "execution_count": 192,
   "id": "ef9da03d",
   "metadata": {
    "scrolled": true
   },
   "outputs": [
    {
     "data": {
      "image/svg+xml": [
       "\n",
       "<svg xmlns=\"http://www.w3.org/2000/svg\"\n",
       "     xml:lang=\"en-GB\" width=\"250\" height=\"100\" >\n",
       "    <title>How Doth the Little Crocodile - Lewis Carroll</title>\n",
       "    <desc>From Alice in Wonderland</desc>\n",
       "    <style>\n",
       "        text {\n",
       "        \n",
       "            font-size : 8px;\n",
       "        \n",
       "        }\n",
       "    </style>\n",
       "    <text class=\"verse\">\n",
       "    \n",
       "        \n",
       "        \n",
       "                \n",
       "            <tspan dy=\"1.2em\" x=\"5\">Opposite team players are getting closer to block him! {name} dribbles</tspan>               \n",
       "                \n",
       "\n",
       "\n",
       "        \n",
       "\n",
       "        \n",
       "            <tspan dy=\"1.2em\" x=\"5\"\n",
       "                   >past the defender. He can see the goal clearly. He is ready to take a shot!</tspan>          \n",
       "        \n",
       "        \n",
       "        \n",
       "      </text>\n",
       "    </svg>"
      ]
     },
     "metadata": {},
     "output_type": "display_data"
    }
   ],
   "source": [
    "from IPython.display import display_svg\n",
    "\n",
    "display_svg(\n",
    "  svg_string,\n",
    "  raw=True\n",
    ")"
   ]
  },
  {
   "cell_type": "code",
   "execution_count": 193,
   "id": "951acb8d",
   "metadata": {},
   "outputs": [],
   "source": [
    "svg_image_data = pyvips.Image.svgload_buffer( svg_string.encode('utf-8'), dpi=300 )\n",
    "svg_image_data.write_to_file(\"svg.png\")"
   ]
  },
  {
   "cell_type": "code",
   "execution_count": null,
   "id": "7e826217",
   "metadata": {},
   "outputs": [],
   "source": []
  },
  {
   "cell_type": "code",
   "execution_count": null,
   "id": "8589c39e",
   "metadata": {},
   "outputs": [],
   "source": []
  }
 ],
 "metadata": {
  "kernelspec": {
   "display_name": "Python 3 (ipykernel)",
   "language": "python",
   "name": "python3"
  },
  "language_info": {
   "codemirror_mode": {
    "name": "ipython",
    "version": 3
   },
   "file_extension": ".py",
   "mimetype": "text/x-python",
   "name": "python",
   "nbconvert_exporter": "python",
   "pygments_lexer": "ipython3",
   "version": "3.7.12"
  }
 },
 "nbformat": 4,
 "nbformat_minor": 5
}
