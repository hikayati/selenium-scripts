{
 "cells": [
  {
   "cell_type": "code",
   "execution_count": 1,
   "id": "ea3e7e16",
   "metadata": {},
   "outputs": [
    {
     "data": {
      "text/plain": [
       "'\\nWe want to change image names, in our books which need replacement so a script is needed which\\nwill simply take src and dst image and will replace the same image in all file for a book.\\nBook root path will be given first, and script will also handle the size of images, \\nthe size of the dst image will be same src image.\\n'"
      ]
     },
     "execution_count": 1,
     "metadata": {},
     "output_type": "execute_result"
    }
   ],
   "source": [
    "\"\"\"\n",
    "We want to change image names, in our books which need replacement so a script is needed which\n",
    "will simply take src and dst image and will replace the same image in all file for a book.\n",
    "Book root path will be given first, and script will also handle the size of images, \n",
    "the size of the dst image will be same src image.\n",
    "\"\"\""
   ]
  },
  {
   "cell_type": "code",
   "execution_count": 4,
   "id": "28311779",
   "metadata": {
    "scrolled": true
   },
   "outputs": [
    {
     "name": "stdout",
     "output_type": "stream",
     "text": [
      "Going for book: /home/sniper/work/hekayati_backend/data/content/books/falcon\n",
      "--------------------\n",
      "Opening Quality: high\n",
      "Opening Avatar: girl4\n",
      "Replacing image: /home/sniper/work/hekayati_backend/data/content/books/falcon/high/girl4/illustration44a.jpg\n",
      "Opening Avatar: girl5\n",
      "Replacing image: /home/sniper/work/hekayati_backend/data/content/books/falcon/high/girl5/illustration44a.jpg\n",
      "Opening Avatar: girl2\n",
      "Replacing image: /home/sniper/work/hekayati_backend/data/content/books/falcon/high/girl2/illustration44a.jpg\n",
      "Opening Avatar: boy3\n",
      "Replacing image: /home/sniper/work/hekayati_backend/data/content/books/falcon/high/boy3/illustration44a.jpg\n",
      "Opening Avatar: boy5\n",
      "Replacing image: /home/sniper/work/hekayati_backend/data/content/books/falcon/high/boy5/illustration44a.jpg\n",
      "Opening Avatar: boy2\n",
      "Replacing image: /home/sniper/work/hekayati_backend/data/content/books/falcon/high/boy2/illustration44a.jpg\n",
      "Opening Avatar: girl1\n",
      "Replacing image: /home/sniper/work/hekayati_backend/data/content/books/falcon/high/girl1/illustration44a.jpg\n",
      "Opening Avatar: girl3\n",
      "Replacing image: /home/sniper/work/hekayati_backend/data/content/books/falcon/high/girl3/illustration44a.jpg\n",
      "Opening Avatar: boy1\n",
      "Replacing image: /home/sniper/work/hekayati_backend/data/content/books/falcon/high/boy1/illustration44a.jpg\n",
      "Opening Avatar: boy4\n",
      "Replacing image: /home/sniper/work/hekayati_backend/data/content/books/falcon/high/boy4/illustration44a.jpg\n",
      "--------------------\n",
      "Opening Quality: low\n",
      "Opening Avatar: girl4\n",
      "OLD image size: (676, 676)\n",
      "NEW image size: (2717, 2717)\n",
      "Resizing image...\n",
      "Replacing image: /home/sniper/work/hekayati_backend/data/content/books/falcon/low/girl4/illustration44a.jpg\n",
      "Opening Avatar: girl5\n",
      "OLD image size: (676, 676)\n",
      "NEW image size: (2717, 2717)\n",
      "Resizing image...\n",
      "Replacing image: /home/sniper/work/hekayati_backend/data/content/books/falcon/low/girl5/illustration44a.jpg\n",
      "Opening Avatar: girl2\n",
      "OLD image size: (676, 676)\n",
      "NEW image size: (2717, 2717)\n",
      "Resizing image...\n",
      "Replacing image: /home/sniper/work/hekayati_backend/data/content/books/falcon/low/girl2/illustration44a.jpg\n",
      "Opening Avatar: boy3\n",
      "OLD image size: (676, 676)\n",
      "NEW image size: (2717, 2717)\n",
      "Resizing image...\n",
      "Replacing image: /home/sniper/work/hekayati_backend/data/content/books/falcon/low/boy3/illustration44a.jpg\n",
      "Opening Avatar: boy5\n",
      "OLD image size: (676, 676)\n",
      "NEW image size: (2717, 2717)\n",
      "Resizing image...\n",
      "Replacing image: /home/sniper/work/hekayati_backend/data/content/books/falcon/low/boy5/illustration44a.jpg\n",
      "Opening Avatar: boy2\n",
      "OLD image size: (676, 676)\n",
      "NEW image size: (2717, 2717)\n",
      "Resizing image...\n",
      "Replacing image: /home/sniper/work/hekayati_backend/data/content/books/falcon/low/boy2/illustration44a.jpg\n",
      "Opening Avatar: girl1\n",
      "OLD image size: (676, 676)\n",
      "NEW image size: (2717, 2717)\n",
      "Resizing image...\n",
      "Replacing image: /home/sniper/work/hekayati_backend/data/content/books/falcon/low/girl1/illustration44a.jpg\n",
      "Opening Avatar: girl3\n",
      "OLD image size: (676, 676)\n",
      "NEW image size: (2717, 2717)\n",
      "Resizing image...\n",
      "Replacing image: /home/sniper/work/hekayati_backend/data/content/books/falcon/low/girl3/illustration44a.jpg\n",
      "Opening Avatar: boy1\n",
      "OLD image size: (676, 676)\n",
      "NEW image size: (2717, 2717)\n",
      "Resizing image...\n",
      "Replacing image: /home/sniper/work/hekayati_backend/data/content/books/falcon/low/boy1/illustration44a.jpg\n",
      "Opening Avatar: boy4\n",
      "OLD image size: (676, 676)\n",
      "NEW image size: (2717, 2717)\n",
      "Resizing image...\n",
      "Replacing image: /home/sniper/work/hekayati_backend/data/content/books/falcon/low/boy4/illustration44a.jpg\n"
     ]
    }
   ],
   "source": [
    "import os\n",
    "import shutil\n",
    "from PIL import Image\n",
    "\n",
    "book_root = \"/home/sniper/work/hekayati_backend/data/content/books/falcon\"\n",
    "new_image  = \"./illustration4.jpg\"\n",
    "old_image = \"illustration44a.jpg\"\n",
    "\n",
    "print (\"Going for book:\", book_root)\n",
    "\n",
    "for quality in [\"high\", \"low\"]:\n",
    "    print(\"--\"*10)\n",
    "    print(\"Opening Quality:\", quality)\n",
    "    files = os.listdir(os.path.join(book_root, quality))\n",
    "    for avatar in files:\n",
    "        print(\"Opening Avatar:\", avatar)\n",
    "        #--first make sure src have same dimension as dst image\n",
    "        old_full_path = os.path.join( book_root, quality, avatar, old_image )    \n",
    "        old_image_pil = Image.open( old_full_path )\n",
    "        new_image_pil = Image.open( new_image )\n",
    "        if old_image_pil.size != new_image_pil.size:\n",
    "            #---resize image\n",
    "            print(\"OLD image size:\", old_image_pil.size)\n",
    "            print(\"NEW image size:\", new_image_pil.size)            \n",
    "            print(\"Resizing image...\")\n",
    "            new_image_pil.thumbnail( old_image_pil.size ) \n",
    "        #---now save the image\n",
    "        print(\"Replacing image:\", old_full_path)\n",
    "        new_image_pil.save(old_full_path)"
   ]
  },
  {
   "cell_type": "code",
   "execution_count": null,
   "id": "4d646ce6",
   "metadata": {},
   "outputs": [],
   "source": []
  }
 ],
 "metadata": {
  "kernelspec": {
   "display_name": "Python 3 (ipykernel)",
   "language": "python",
   "name": "python3"
  },
  "language_info": {
   "codemirror_mode": {
    "name": "ipython",
    "version": 3
   },
   "file_extension": ".py",
   "mimetype": "text/x-python",
   "name": "python",
   "nbconvert_exporter": "python",
   "pygments_lexer": "ipython3",
   "version": "3.7.12"
  }
 },
 "nbformat": 4,
 "nbformat_minor": 5
}
