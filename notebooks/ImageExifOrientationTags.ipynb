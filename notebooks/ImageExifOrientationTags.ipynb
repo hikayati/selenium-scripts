{
 "cells": [
  {
   "cell_type": "code",
   "execution_count": 11,
   "id": "1609f493",
   "metadata": {},
   "outputs": [],
   "source": [
    "from PIL import ImageOps, Image\n",
    "\n",
    "img = Image.open(\"./in/kid_1.jpg\")\n",
    "\n",
    "img_ret = ImageOps.exif_transpose( img )"
   ]
  },
  {
   "cell_type": "code",
   "execution_count": 6,
   "id": "f66c3701",
   "metadata": {},
   "outputs": [],
   "source": [
    "img_ret.save(\"./out/kid_output.jpg\")"
   ]
  },
  {
   "cell_type": "code",
   "execution_count": 13,
   "id": "b3409d31",
   "metadata": {},
   "outputs": [
    {
     "data": {
      "text/plain": [
       "int"
      ]
     },
     "execution_count": 13,
     "metadata": {},
     "output_type": "execute_result"
    }
   ],
   "source": [
    "exif = img.getexif()\n",
    "orientation = exif.get(0x0112)\n",
    "type(orientation)"
   ]
  },
  {
   "cell_type": "code",
   "execution_count": null,
   "id": "6c897906",
   "metadata": {},
   "outputs": [],
   "source": [
    "exif.setdefault()"
   ]
  }
 ],
 "metadata": {
  "kernelspec": {
   "display_name": "Python 3 (ipykernel)",
   "language": "python",
   "name": "python3"
  },
  "language_info": {
   "codemirror_mode": {
    "name": "ipython",
    "version": 3
   },
   "file_extension": ".py",
   "mimetype": "text/x-python",
   "name": "python",
   "nbconvert_exporter": "python",
   "pygments_lexer": "ipython3",
   "version": "3.7.12"
  }
 },
 "nbformat": 4,
 "nbformat_minor": 5
}
