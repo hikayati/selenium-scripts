{
 "cells": [
  {
   "cell_type": "markdown",
   "id": "b45b685f",
   "metadata": {},
   "source": [
    "### Mongo Dedication list"
   ]
  },
  {
   "cell_type": "code",
   "execution_count": 37,
   "id": "a76a4c8d",
   "metadata": {},
   "outputs": [],
   "source": [
    "s = \"\"\"حبيبي‬ {name}،\n",
    "\n",
    "كوني مثل الشجرة، شامخةً ومعتزةً بنفسك. كريمةً تعطي ثمارك للجميع، محبةً يستفيء الجميع بظلّك.\n",
    "\n",
    "لكن لا تنسَي جذورك العميقة الممتدة في هذا الوطن، الذي جعل منكِ البطلة التي أنت عليها الآن.\n",
    "\n",
    "ماما و بابا\n",
    "\"\"\""
   ]
  },
  {
   "cell_type": "code",
   "execution_count": 38,
   "id": "1065af45",
   "metadata": {},
   "outputs": [],
   "source": [
    "s = s.split(\"\\n\")\n",
    "mongo_dedication = []\n",
    "for s1 in s:\n",
    "    if s1 not in ['']:\n",
    "        mongo_dedication.append( s1 )"
   ]
  },
  {
   "cell_type": "code",
   "execution_count": 39,
   "id": "f7bec23b",
   "metadata": {},
   "outputs": [
    {
     "name": "stdout",
     "output_type": "stream",
     "text": [
      "['حبيبي\\u202c {name}،', 'كوني مثل الشجرة، شامخةً ومعتزةً بنفسك. كريمةً تعطي ثمارك للجميع، محبةً يستفيء الجميع بظلّك.', 'لكن لا تنسَي جذورك العميقة الممتدة في هذا الوطن، الذي جعل منكِ البطلة التي أنت عليها الآن.', 'ماما و بابا'] ,\n"
     ]
    }
   ],
   "source": [
    "print ( mongo_dedication, \",\" )"
   ]
  },
  {
   "cell_type": "code",
   "execution_count": 18,
   "id": "4f423945",
   "metadata": {},
   "outputs": [
    {
     "data": {
      "text/plain": [
       "(['حبيبتنا {name}،',\n",
       "  'قريبا سيكون لديك أخ صغير، رضيع بحاجة للإهتمام المتواصل حتى يكبر و يصبح قويا مثلك! فقط نود تذكيركي بانه و ان شغلنا الصغير ببكائه وضعفه فتأكدي أن حبنا لك لا يتغير، و اهتمامنا الفعلي لا ينقص.',\n",
       "  'والداكِ المحبان'],)"
      ]
     },
     "execution_count": 18,
     "metadata": {},
     "output_type": "execute_result"
    }
   ],
   "source": []
  },
  {
   "cell_type": "code",
   "execution_count": null,
   "id": "3eeba57b",
   "metadata": {},
   "outputs": [],
   "source": []
  }
 ],
 "metadata": {
  "kernelspec": {
   "display_name": "Python 3 (ipykernel)",
   "language": "python",
   "name": "python3"
  },
  "language_info": {
   "codemirror_mode": {
    "name": "ipython",
    "version": 3
   },
   "file_extension": ".py",
   "mimetype": "text/x-python",
   "name": "python",
   "nbconvert_exporter": "python",
   "pygments_lexer": "ipython3",
   "version": "3.7.12"
  }
 },
 "nbformat": 4,
 "nbformat_minor": 5
}
