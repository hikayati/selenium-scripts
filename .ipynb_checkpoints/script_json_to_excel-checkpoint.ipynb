{
 "cells": [
  {
   "cell_type": "code",
   "execution_count": 43,
   "id": "1208c2ab",
   "metadata": {},
   "outputs": [],
   "source": [
    "with open(\"./english.json\", \"r\") as f:\n",
    "    data = f.read()"
   ]
  },
  {
   "cell_type": "code",
   "execution_count": 44,
   "id": "a63e6c09",
   "metadata": {},
   "outputs": [
    {
     "data": {
      "text/plain": [
       "40"
      ]
     },
     "execution_count": 44,
     "metadata": {},
     "output_type": "execute_result"
    }
   ],
   "source": [
    "import json\n",
    "\n",
    "pages = json.loads(data)['data']\n",
    "len(pages)"
   ]
  },
  {
   "cell_type": "code",
   "execution_count": 45,
   "id": "e6187563",
   "metadata": {},
   "outputs": [],
   "source": [
    "def get_text(texts):\n",
    "    #texts = pages[0]['copy']['girl_girl']\n",
    "    page_txt = \"\"\"\"\"\"\n",
    "    for txt in texts:\n",
    "        page_txt += txt['text'] + \"\\n\"\n",
    "    #print( page_txt )\n",
    "    return [ page_txt ]\n",
    "\n",
    "lpage_no = []\n",
    "lgirl_girl = []\n",
    "lgirl_boy = []\n",
    "lboy_boy = []\n",
    "lboy_girl = []\n",
    "\n",
    "for page in pages:\n",
    "    scripts_text = page['copy']\n",
    "    \n",
    "    lpage_no.append( page['page_no'] )\n",
    "    \n",
    "    lgirl_girl += get_text( scripts_text['girl_girl'] )\n",
    "    lgirl_boy += get_text( scripts_text['girl_boy'] )\n",
    "    lboy_boy += get_text( scripts_text['boy_boy'] )\n",
    "    lboy_girl += get_text( scripts_text['boy_girl'] )\n",
    "    \n"
   ]
  },
  {
   "cell_type": "code",
   "execution_count": 46,
   "id": "a4c56eb7",
   "metadata": {},
   "outputs": [],
   "source": [
    "import pandas as pd"
   ]
  },
  {
   "cell_type": "code",
   "execution_count": 47,
   "id": "d305ae92",
   "metadata": {},
   "outputs": [],
   "source": [
    "df = pd.DataFrame()\n",
    "df['Page-No.'] = lpage_no\n",
    "df['Sis-Sis'] = lgirl_girl\n",
    "df[' Sis-Bro'] = lgirl_boy\n",
    "df['Bro-Sis'] = lboy_girl\n",
    "df['Br-Bro'] = lboy_boy"
   ]
  },
  {
   "cell_type": "code",
   "execution_count": 48,
   "id": "8b597580",
   "metadata": {},
   "outputs": [],
   "source": [
    "df.to_excel(\"./english_sibling.xlsx\", index=False)"
   ]
  },
  {
   "cell_type": "code",
   "execution_count": 40,
   "id": "2c857c88",
   "metadata": {},
   "outputs": [],
   "source": [
    "s = \"\"\"\"بَعْدَ عَامٍ مِنَ التَّحْضِيْرِ، وَسَهَرِ اللَّيَالِي\n",
    "عَمَّتِ الإِثَارَةُ مَعْ بَدْءِ العَدِّ التَنَازُلِي\n",
    "وَاقْتِرَابِ مَوْعِدِ اِسْتِقْبَالِ الطِّفْلِ الغَالِي\n",
    "أَمِيْرَتُنَا الصَّغِيْرَةُ مُفْعَمَةٌ بِالحَيَوِيَّةِ وَالنَّشَاطْ\n",
    "فَبَعْدَ المَلِكِ وَالمَلِكَةِ، {الاسم} الآمِرَةُ فِـيْ البِلَا\n",
    "فَحَصَتْ بَطَّارِيَّاتِ الدُّمَى\n",
    "وَجَهَّزَتْ كُلَّ شَيءٍ عَلَـى فِرَاشِهَا النَطَّاطْ\"\n",
    "\"\"\""
   ]
  },
  {
   "cell_type": "markdown",
   "id": "ac03babc",
   "metadata": {},
   "source": [
    "### EXCLE to Script.json"
   ]
  },
  {
   "cell_type": "code",
   "execution_count": 99,
   "id": "123c95ec",
   "metadata": {},
   "outputs": [],
   "source": [
    "import pandas as pd"
   ]
  },
  {
   "cell_type": "code",
   "execution_count": 100,
   "id": "d4a382dc",
   "metadata": {},
   "outputs": [
    {
     "data": {
      "text/html": [
       "<div>\n",
       "<style scoped>\n",
       "    .dataframe tbody tr th:only-of-type {\n",
       "        vertical-align: middle;\n",
       "    }\n",
       "\n",
       "    .dataframe tbody tr th {\n",
       "        vertical-align: top;\n",
       "    }\n",
       "\n",
       "    .dataframe thead th {\n",
       "        text-align: right;\n",
       "    }\n",
       "</style>\n",
       "<table border=\"1\" class=\"dataframe\">\n",
       "  <thead>\n",
       "    <tr style=\"text-align: right;\">\n",
       "      <th></th>\n",
       "      <th>Page-No.</th>\n",
       "      <th>Sis-Sis</th>\n",
       "      <th>Sis-Bro</th>\n",
       "      <th>Bro-Sis</th>\n",
       "      <th>Bro-Bro</th>\n",
       "    </tr>\n",
       "  </thead>\n",
       "  <tbody>\n",
       "    <tr>\n",
       "      <th>0</th>\n",
       "      <td>1.0</td>\n",
       "      <td>{name}\\nوَ\\nشَقِيْقَتُهَا الجَدِيْدَةُ</td>\n",
       "      <td>{name}\\nوَ\\nشَقِيْقُهَا الجَدِيْدَ</td>\n",
       "      <td>{name}\\nوَ\\nشَقِيْقَتُهُ الجَدِيْدَةُ</td>\n",
       "      <td>{name}\\nوَ\\nشَقِيْقُهُ الجَدِيْدُ</td>\n",
       "    </tr>\n",
       "  </tbody>\n",
       "</table>\n",
       "</div>"
      ],
      "text/plain": [
       "  Page-No.                                 Sis-Sis  \\\n",
       "0      1.0  {name}\\nوَ\\nشَقِيْقَتُهَا الجَدِيْدَةُ   \n",
       "\n",
       "                              Sis-Bro                                Bro-Sis  \\\n",
       "0  {name}\\nوَ\\nشَقِيْقُهَا الجَدِيْدَ  {name}\\nوَ\\nشَقِيْقَتُهُ الجَدِيْدَةُ   \n",
       "\n",
       "                             Bro-Bro  \n",
       "0  {name}\\nوَ\\nشَقِيْقُهُ الجَدِيْدُ  "
      ]
     },
     "execution_count": 100,
     "metadata": {},
     "output_type": "execute_result"
    }
   ],
   "source": [
    "df = pd.read_excel(\"./Sibling_SOT_Verify.xlsx\", sheet_name=\"\")\n",
    "df.head(1)"
   ]
  },
  {
   "cell_type": "code",
   "execution_count": 101,
   "id": "db77f9c7",
   "metadata": {},
   "outputs": [
    {
     "data": {
      "text/plain": [
       "['\"مَا الَذِي يَحْدُثُ هُنَا؟\" تَسَاءَلَتْ {اسم} بِلَهْفَة،',\n",
       " 'فَالمَوْلُوْدُ لَا يَزَالُ غَيْرَ وَاضِحٍ فِـيْ البَطَّانِيَّةِ المَلْفُوْفَة،',\n",
       " '\"إِنَّهَا بِنْتٌ\"! صَاحَتِ المُمَرِّضَةُ الشَّغُوْفَة،',\n",
       " 'أَمِيْرَتُنَا الجَمِيْلَةُ قَدْ أَقْبَلَتْ وَأَضَاءَتْ بِنُوْرِهَا الغُرْفَة!']"
      ]
     },
     "execution_count": 101,
     "metadata": {},
     "output_type": "execute_result"
    }
   ],
   "source": [
    "df.loc[11]['Sis-Sis'].split(\"\\n\")"
   ]
  },
  {
   "cell_type": "code",
   "execution_count": 102,
   "id": "3afab9b2",
   "metadata": {},
   "outputs": [],
   "source": [
    "def text_script(lines, text_array_original):\n",
    "    lines = lines.split(\"\\n\")\n",
    "    #---when we do split it also give '' we need to get rid of this\n",
    "    lines = [line for line in lines if line]\n",
    "    #---make a copy of text array\n",
    "    import copy\n",
    "    text_array = copy.deepcopy(text_array_original)\n",
    "    if len(lines) > len(text_array):\n",
    "        #---means we have some extra lines in lines or text_array\n",
    "        #---but remember we dont need to check for \"if len(lines) < len(text_array)\"\n",
    "        diff  = abs(len(lines) - len(text_array))\n",
    "        for d in range(0, diff):\n",
    "            text_array.append( { \"text\" : \"\" } )\n",
    "    elif len(lines) < len(text_array):\n",
    "        #---now delete some line from text_array\n",
    "        #---remember we will always deleting or adding in text_array, because\n",
    "        #---lines are coming from source of truth we can not change it its destiny\n",
    "        #---use pop to remove from text_array it will remove from the last element.\n",
    "        diff  = abs(len(lines) - len(text_array))\n",
    "        for d in range(0,diff):\n",
    "            text_array.pop()\n",
    "            \n",
    "    \n",
    "    #---now the lines and text_array are equal\n",
    "    if len(lines) != len(text_array):\n",
    "        raise(\"SOT is not equal to the lines in script.json\")\n",
    "    \n",
    "    for idx, single_line in enumerate(lines):\n",
    "        text_array[idx]['text'] = single_line        \n",
    "    \n",
    "    return text_array"
   ]
  },
  {
   "cell_type": "code",
   "execution_count": 103,
   "id": "bef0da16",
   "metadata": {},
   "outputs": [],
   "source": [
    "lines=\"\"\"\n",
    "\"كَانْ يَا مَا كَانْ فِـيْ قَدِيْمِ الزَّمَانْ\n",
    "كَانَتْ {اسم} أَمِيْرَةً صَغِيْرَةً\n",
    "تَعِيْشُ فِـيْ مَمْلَكَةٍ بَعِيْدَةِ المَكَانْ\n",
    "فِـيْهَا أَشْجَارٌ وَأَزْهَارٌ وَبُسْتَانْ.\n",
    "كَانِتْ {اسم} الجَمِيْلَةُ مُحَاطَةً بِكُلِّ مَا تَشْتَهِي،\n",
    "وَكَانَتْ رُوْحَ القَصْرِ وَفَرْحَةَ المَمْلَكَةِ وَالسُّكَّانْ\"\n",
    "\"\"\""
   ]
  },
  {
   "cell_type": "code",
   "execution_count": 104,
   "id": "4768685f",
   "metadata": {},
   "outputs": [],
   "source": [
    "text_array = [\n",
    "        {\n",
    "            \"text\": \"كَانْ يَا مَا كَانْ فِـيْ قَدِيْمِ الزَّمَانْ\"\n",
    "        },\n",
    "        {\n",
    "            \"text\": \"كَانَتْ {اسم} أَمِيْرَةً صَغِيْرَةً\"\n",
    "        },\n",
    "        {\n",
    "            \"text\": \"تَعِيْشُ فِـيْ مَمْلَكَةٍ بَعِيْدَةِ المَكَانْ\",\n",
    "            \"bottom_margin\": 180\n",
    "        },\n",
    "        {\n",
    "            \"text\": \"فِـيْهَا أَشْجَارٌ وَأَزْهَارٌ وَبُسْتَانْ.\"\n",
    "        },\n",
    "        {\n",
    "            \"text\": \"كَانِتْ {اسم} الجَمِيْلَةُ مُحَاطَةً بِكُلِّ مَا تَشْتَهِي،\"\n",
    "        },\n",
    "        {\n",
    "            \"text\": \"وَكَانَتْ رُوْحَ القَصْرِ وَفَرْحَةَ المَمْلَكَةِ وَالسُّكَّانْ\"\n",
    "        }\n",
    "]"
   ]
  },
  {
   "cell_type": "code",
   "execution_count": 105,
   "id": "77e286de",
   "metadata": {},
   "outputs": [],
   "source": [
    "# #text_script(lines, text_array)\n",
    "# text_array = all_pages[11]['copy']['girl_girl']\n",
    "# lines = df.loc[11]['Sis-Sis']\n",
    "# text_script(lines, text_array)"
   ]
  },
  {
   "cell_type": "code",
   "execution_count": 106,
   "id": "394a253f",
   "metadata": {},
   "outputs": [],
   "source": [
    "#---pages and rows of df should be equal\n",
    "with open(\"./arabic.json\", \"r\") as f:\n",
    "    arabic = f.read()\n",
    "    \n",
    "import json\n",
    "arabic = json.loads(arabic)\n",
    "arabic\n",
    "pages = arabic['data']\n",
    "len(pages)\n",
    "\n",
    "if len(df) != len(pages):\n",
    "    raise(\"Mismatch shape of SOT and SCript\")"
   ]
  },
  {
   "cell_type": "code",
   "execution_count": 107,
   "id": "11a3d60f",
   "metadata": {},
   "outputs": [
    {
     "name": "stderr",
     "output_type": "stream",
     "text": [
      "/home/sniper/work/test_suit/venv/lib/python3.7/site-packages/ipykernel_launcher.py:5: FutureWarning: The pandas.np module is deprecated and will be removed from pandas in a future version. Import numpy directly instead\n",
      "  \"\"\"\n"
     ]
    }
   ],
   "source": [
    "    \n",
    "all_pages = []    \n",
    "for row_idx, page in zip( range(0, len(df)), pages):\n",
    "    row = df.loc[row_idx]\n",
    "    #--skipp the empty scripts from df\n",
    "    if row['Sis-Sis'] is pd.np.nan:\n",
    "        all_pages.append(page)\n",
    "        continue\n",
    "    girl_girl_sot = row['Sis-Sis']\n",
    "    girl_boy_sot = row['Sis-Bro']\n",
    "    boy_boy_sot = row['Bro-Bro']\n",
    "    boy_girl_sot = row['Bro-Sis']\n",
    "        \n",
    "    girl_girl = page['copy']['girl_girl']\n",
    "    girl_boy = page['copy']['girl_girl']\n",
    "    boy_boy = page['copy']['girl_girl']\n",
    "    boy_girl = page['copy']['girl_girl']\n",
    "    \n",
    "    copy = {\n",
    "        'girl_girl' : text_script(girl_girl_sot, girl_girl),\n",
    "        'girl_boy' : text_script(girl_boy_sot, girl_boy),\n",
    "        'boy_boy' : text_script(boy_boy_sot, boy_boy),\n",
    "        'boy_girl' : text_script(boy_girl_sot, boy_girl)  \n",
    "    }\n",
    "    \n",
    "    if str(page['page_no']) == str(8):\n",
    "        #break\n",
    "        pass\n",
    "    #print(\"PAge Appending:\", page)\n",
    "    pages[row_idx]['copy'] = copy\n",
    "    #all_pages.append( page )"
   ]
  },
  {
   "cell_type": "code",
   "execution_count": 108,
   "id": "03dcf6fc",
   "metadata": {},
   "outputs": [
    {
     "name": "stdout",
     "output_type": "stream",
     "text": [
      "Leng th of all_pages 40\n"
     ]
    }
   ],
   "source": [
    "print (\"Leng th of all_pages\" ,len(pages))\n",
    "arabic['data'] = pages"
   ]
  },
  {
   "cell_type": "code",
   "execution_count": 109,
   "id": "c5755235",
   "metadata": {},
   "outputs": [],
   "source": [
    "import json\n",
    "with open('arabic_new.json', 'w', encoding='utf-8') as f:\n",
    "    json.dump(arabic, f, ensure_ascii=False, indent=4)"
   ]
  }
 ],
 "metadata": {
  "kernelspec": {
   "display_name": "Python 3 (ipykernel)",
   "language": "python",
   "name": "python3"
  },
  "language_info": {
   "codemirror_mode": {
    "name": "ipython",
    "version": 3
   },
   "file_extension": ".py",
   "mimetype": "text/x-python",
   "name": "python",
   "nbconvert_exporter": "python",
   "pygments_lexer": "ipython3",
   "version": "3.7.12"
  }
 },
 "nbformat": 4,
 "nbformat_minor": 5
}
