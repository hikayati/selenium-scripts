{
 "cells": [
  {
   "cell_type": "code",
   "execution_count": 1,
   "id": "3795737a",
   "metadata": {},
   "outputs": [],
   "source": [
    "with open(\"./scripts/english.json\", \"r\") as f:\n",
    "    data = f.read()"
   ]
  },
  {
   "cell_type": "code",
   "execution_count": 2,
   "id": "72b2a1bc",
   "metadata": {},
   "outputs": [
    {
     "data": {
      "text/plain": [
       "42"
      ]
     },
     "execution_count": 2,
     "metadata": {},
     "output_type": "execute_result"
    }
   ],
   "source": [
    "import json\n",
    "\n",
    "pages = json.loads(data)['data']\n",
    "len(pages)"
   ]
  },
  {
   "cell_type": "code",
   "execution_count": 3,
   "id": "d910d937",
   "metadata": {},
   "outputs": [
    {
     "ename": "KeyError",
     "evalue": "'girl_girl'",
     "output_type": "error",
     "traceback": [
      "\u001b[0;31m---------------------------------------------------------------------------\u001b[0m",
      "\u001b[0;31mKeyError\u001b[0m                                  Traceback (most recent call last)",
      "\u001b[0;32m<ipython-input-3-88cb488b95a8>\u001b[0m in \u001b[0;36m<module>\u001b[0;34m\u001b[0m\n\u001b[1;32m     18\u001b[0m     \u001b[0mlpage_no\u001b[0m\u001b[0;34m.\u001b[0m\u001b[0mappend\u001b[0m\u001b[0;34m(\u001b[0m \u001b[0mpage\u001b[0m\u001b[0;34m[\u001b[0m\u001b[0;34m'page_no'\u001b[0m\u001b[0;34m]\u001b[0m \u001b[0;34m)\u001b[0m\u001b[0;34m\u001b[0m\u001b[0;34m\u001b[0m\u001b[0m\n\u001b[1;32m     19\u001b[0m \u001b[0;34m\u001b[0m\u001b[0m\n\u001b[0;32m---> 20\u001b[0;31m     \u001b[0mlgirl_girl\u001b[0m \u001b[0;34m+=\u001b[0m \u001b[0mget_text\u001b[0m\u001b[0;34m(\u001b[0m \u001b[0mscripts_text\u001b[0m\u001b[0;34m[\u001b[0m\u001b[0;34m'girl_girl'\u001b[0m\u001b[0;34m]\u001b[0m \u001b[0;34m)\u001b[0m\u001b[0;34m\u001b[0m\u001b[0;34m\u001b[0m\u001b[0m\n\u001b[0m\u001b[1;32m     21\u001b[0m     \u001b[0mlgirl_boy\u001b[0m \u001b[0;34m+=\u001b[0m \u001b[0mget_text\u001b[0m\u001b[0;34m(\u001b[0m \u001b[0mscripts_text\u001b[0m\u001b[0;34m[\u001b[0m\u001b[0;34m'girl_boy'\u001b[0m\u001b[0;34m]\u001b[0m \u001b[0;34m)\u001b[0m\u001b[0;34m\u001b[0m\u001b[0;34m\u001b[0m\u001b[0m\n\u001b[1;32m     22\u001b[0m     \u001b[0mlboy_boy\u001b[0m \u001b[0;34m+=\u001b[0m \u001b[0mget_text\u001b[0m\u001b[0;34m(\u001b[0m \u001b[0mscripts_text\u001b[0m\u001b[0;34m[\u001b[0m\u001b[0;34m'boy_boy'\u001b[0m\u001b[0;34m]\u001b[0m \u001b[0;34m)\u001b[0m\u001b[0;34m\u001b[0m\u001b[0;34m\u001b[0m\u001b[0m\n",
      "\u001b[0;31mKeyError\u001b[0m: 'girl_girl'"
     ]
    }
   ],
   "source": [
    "def get_text(texts):\n",
    "    #texts = pages[0]['copy']['girl_girl']\n",
    "    page_txt = \"\"\"\"\"\"\n",
    "    for txt in texts:\n",
    "        page_txt += txt['text'] + \"\\n\"\n",
    "    #print( page_txt )\n",
    "    return [ page_txt ]\n",
    "\n",
    "lpage_no = []\n",
    "lgirl_girl = []\n",
    "lgirl_boy = []\n",
    "lboy_boy = []\n",
    "lboy_girl = []\n",
    "\n",
    "for page in pages:\n",
    "    scripts_text = page['copy']\n",
    "    \n",
    "    lpage_no.append( page['page_no'] )\n",
    "    \n",
    "    lgirl_girl += get_text( scripts_text['girl_girl'] )\n",
    "    lgirl_boy += get_text( scripts_text['girl_boy'] )\n",
    "    lboy_boy += get_text( scripts_text['boy_boy'] )\n",
    "    lboy_girl += get_text( scripts_text['boy_girl'] )\n",
    "    \n"
   ]
  },
  {
   "cell_type": "code",
   "execution_count": 46,
   "id": "ef94d8fa",
   "metadata": {},
   "outputs": [],
   "source": [
    "import pandas as pd"
   ]
  },
  {
   "cell_type": "code",
   "execution_count": 47,
   "id": "b5ef13bc",
   "metadata": {},
   "outputs": [],
   "source": [
    "df = pd.DataFrame()\n",
    "df['Page-No.'] = lpage_no\n",
    "df['Sis-Sis'] = lgirl_girl\n",
    "df[' Sis-Bro'] = lgirl_boy\n",
    "df['Bro-Sis'] = lboy_girl\n",
    "df['Br-Bro'] = lboy_boy"
   ]
  },
  {
   "cell_type": "code",
   "execution_count": 48,
   "id": "5cb2df1d",
   "metadata": {},
   "outputs": [],
   "source": [
    "df.to_excel(\"./english_sibling.xlsx\", index=False)"
   ]
  },
  {
   "cell_type": "code",
   "execution_count": 40,
   "id": "6e8fd9ad",
   "metadata": {},
   "outputs": [],
   "source": [
    "s = \"\"\"\"بَعْدَ عَامٍ مِنَ التَّحْضِيْرِ، وَسَهَرِ اللَّيَالِي\n",
    "عَمَّتِ الإِثَارَةُ مَعْ بَدْءِ العَدِّ التَنَازُلِي\n",
    "وَاقْتِرَابِ مَوْعِدِ اِسْتِقْبَالِ الطِّفْلِ الغَالِي\n",
    "أَمِيْرَتُنَا الصَّغِيْرَةُ مُفْعَمَةٌ بِالحَيَوِيَّةِ وَالنَّشَاطْ\n",
    "فَبَعْدَ المَلِكِ وَالمَلِكَةِ، {الاسم} الآمِرَةُ فِـيْ البِلَا\n",
    "فَحَصَتْ بَطَّارِيَّاتِ الدُّمَى\n",
    "وَجَهَّزَتْ كُلَّ شَيءٍ عَلَـى فِرَاشِهَا النَطَّاطْ\"\n",
    "\"\"\""
   ]
  },
  {
   "cell_type": "markdown",
   "id": "98cd57ef",
   "metadata": {},
   "source": [
    "### EXCLE to Script.json"
   ]
  },
  {
   "cell_type": "code",
   "execution_count": 86,
   "id": "e9d1ecec",
   "metadata": {},
   "outputs": [],
   "source": [
    "import pandas as pd\n",
    "base_language = \"english\""
   ]
  },
  {
   "cell_type": "code",
   "execution_count": 87,
   "id": "5da5aee6",
   "metadata": {},
   "outputs": [
    {
     "data": {
      "text/html": [
       "<div>\n",
       "<style scoped>\n",
       "    .dataframe tbody tr th:only-of-type {\n",
       "        vertical-align: middle;\n",
       "    }\n",
       "\n",
       "    .dataframe tbody tr th {\n",
       "        vertical-align: top;\n",
       "    }\n",
       "\n",
       "    .dataframe thead th {\n",
       "        text-align: right;\n",
       "    }\n",
       "</style>\n",
       "<table border=\"1\" class=\"dataframe\">\n",
       "  <thead>\n",
       "    <tr style=\"text-align: right;\">\n",
       "      <th></th>\n",
       "      <th>Page-No</th>\n",
       "      <th>Boy</th>\n",
       "      <th>Girl</th>\n",
       "    </tr>\n",
       "  </thead>\n",
       "  <tbody>\n",
       "    <tr>\n",
       "      <th>0</th>\n",
       "      <td>1.0</td>\n",
       "      <td>(NAME)\\nThe Football Star</td>\n",
       "      <td>(NAME)\\nThe Football Star</td>\n",
       "    </tr>\n",
       "  </tbody>\n",
       "</table>\n",
       "</div>"
      ],
      "text/plain": [
       "  Page-No                        Boy                       Girl\n",
       "0     1.0  (NAME)\\nThe Football Star  (NAME)\\nThe Football Star"
      ]
     },
     "execution_count": 87,
     "metadata": {},
     "output_type": "execute_result"
    }
   ],
   "source": [
    "df = pd.read_excel(\"./scripts/FootballStar-KSA SOT Verify.xlsx\", sheet_name=f\"{base_language}\")\n",
    "df.head(1)"
   ]
  },
  {
   "cell_type": "code",
   "execution_count": 88,
   "id": "eb01ab48",
   "metadata": {},
   "outputs": [],
   "source": [
    "def text_script(lines, text_array_original):\n",
    "    lines = lines.split(\"\\n\")\n",
    "    #---when we do split it also give '' we need to get rid of this\n",
    "    lines = [line for line in lines if line]\n",
    "    #---make a copy of text array\n",
    "    import copy\n",
    "    text_array = copy.deepcopy(text_array_original)\n",
    "    if len(lines) > len(text_array):\n",
    "        #---means we have some extra lines in lines or text_array\n",
    "        #---but remember we dont need to check for \"if len(lines) < len(text_array)\"\n",
    "        diff  = abs(len(lines) - len(text_array))\n",
    "        for d in range(0, diff):\n",
    "            text_array.append( { \"text\" : \"\" } )\n",
    "    elif len(lines) < len(text_array):\n",
    "        #---now delete some line from text_array\n",
    "        #---remember we will always deleting or adding in text_array, because\n",
    "        #---lines are coming from source of truth we can not change it its destiny\n",
    "        #---use pop to remove from text_array it will remove from the last element.\n",
    "        diff  = abs(len(lines) - len(text_array))\n",
    "        for d in range(0,diff):\n",
    "            text_array.pop()\n",
    "            \n",
    "    \n",
    "    #---now the lines and text_array are equal\n",
    "    if len(lines) != len(text_array):\n",
    "        raise(\"SOT is not equal to the lines in script.json\")\n",
    "    \n",
    "    for idx, single_line in enumerate(lines):\n",
    "        text_array[idx]['text'] = single_line.strip()        \n",
    "    \n",
    "    return text_array"
   ]
  },
  {
   "cell_type": "code",
   "execution_count": 89,
   "id": "6c874e74",
   "metadata": {},
   "outputs": [
    {
     "data": {
      "text/plain": [
       "[{'text': 'He is smiling at him and says'},\n",
       " {'text': '“The magic has just begun”'}]"
      ]
     },
     "execution_count": 89,
     "metadata": {},
     "output_type": "execute_result"
    }
   ],
   "source": [
    "girl"
   ]
  },
  {
   "cell_type": "code",
   "execution_count": 90,
   "id": "73b3c223",
   "metadata": {},
   "outputs": [
    {
     "data": {
      "text/plain": [
       "[{'text': 'He is smiling at him and says'},\n",
       " {'text': '“The magic has just begun”'}]"
      ]
     },
     "execution_count": 90,
     "metadata": {},
     "output_type": "execute_result"
    }
   ],
   "source": [
    "text_script( girl_sot, girl )"
   ]
  },
  {
   "cell_type": "code",
   "execution_count": 91,
   "id": "49912a57",
   "metadata": {},
   "outputs": [],
   "source": [
    "#---pages and rows of df should be equal\n",
    "with open(f\"./scripts/{base_language}.json\", \"r\") as f:\n",
    "    arabic = f.read()\n",
    "    \n",
    "import json\n",
    "arabic = json.loads(arabic)\n",
    "arabic\n",
    "pages = arabic['data']\n",
    "len(pages)\n",
    "\n",
    "if len(df) != len(pages):\n",
    "    print(\"DF LEN:\", len(df))\n",
    "    print(\"PAGES LEN:\", len(pages))\n",
    "    raise(\"Mismatch shape of SOT and SCript\")"
   ]
  },
  {
   "cell_type": "code",
   "execution_count": 92,
   "id": "40983110",
   "metadata": {},
   "outputs": [
    {
     "name": "stdout",
     "output_type": "stream",
     "text": [
      "Skipping the Title of story... Not Needed\n",
      "Row is Empty...\n",
      "Row is Empty...\n",
      "Row is Empty...\n",
      "Row is Empty...\n",
      "Row is Empty...\n",
      "Row is Empty...\n",
      "Row is Empty...\n",
      "Row is Empty...\n",
      "Row is Empty...\n",
      "Row is Empty...\n",
      "Row is Empty...\n",
      "Row is Empty...\n"
     ]
    }
   ],
   "source": [
    "    \n",
    "all_pages = []    \n",
    "for row_idx, page in zip( range(0, len(df)), pages):\n",
    "    if row_idx == 0:\n",
    "        print(\"Skipping the Title of story... Not Needed\")\n",
    "        continue\n",
    "    row = df.loc[row_idx]\n",
    "    #--skipp the empty scripts from df\n",
    "    if row['Boy'] in ['empty']:\n",
    "        print(\"Row is Empty...\")        \n",
    "        pages[row_idx]['copy'] = {\n",
    "           \"boy\": [\n",
    "           ],\n",
    "           \"girl\": [\n",
    "           ]            \n",
    "        }        \n",
    "        all_pages.append(page)\n",
    "        continue\n",
    "        \n",
    "    girl_sot = row['Girl']\n",
    "    boy_sot = row['Boy']\n",
    "    \n",
    "    girl = page['copy']['boy']\n",
    "    boy = page['copy']['boy']\n",
    "    \n",
    "    copy = {\n",
    "        'boy' : text_script(boy_sot, boy),  \n",
    "\n",
    "        'girl' : text_script(girl_sot, girl),\n",
    "    }\n",
    "    \n",
    "    if str(page['page_no']) == str(8):\n",
    "        #break\n",
    "        pass\n",
    "    #print(\"PAge Appending:\", page)\n",
    "    pages[row_idx]['copy'] = copy\n",
    "    #all_pages.append( page )"
   ]
  },
  {
   "cell_type": "code",
   "execution_count": 93,
   "id": "f969842e",
   "metadata": {},
   "outputs": [
    {
     "name": "stdout",
     "output_type": "stream",
     "text": [
      "Leng th of all_pages 42\n"
     ]
    }
   ],
   "source": [
    "print (\"Leng th of all_pages\" ,len(pages))\n",
    "arabic['data'] = pages"
   ]
  },
  {
   "cell_type": "code",
   "execution_count": 94,
   "id": "43830369",
   "metadata": {},
   "outputs": [],
   "source": [
    "import json\n",
    "with open(f'./scripts/{base_language}_new.json', 'w', encoding='utf-8') as f:\n",
    "    json.dump(arabic, f, ensure_ascii=False, indent=4)"
   ]
  },
  {
   "cell_type": "code",
   "execution_count": null,
   "id": "f125701b",
   "metadata": {},
   "outputs": [],
   "source": []
  },
  {
   "cell_type": "code",
   "execution_count": null,
   "id": "9ef17c86",
   "metadata": {},
   "outputs": [],
   "source": []
  }
 ],
 "metadata": {
  "kernelspec": {
   "display_name": "Python 3 (ipykernel)",
   "language": "python",
   "name": "python3"
  },
  "language_info": {
   "codemirror_mode": {
    "name": "ipython",
    "version": 3
   },
   "file_extension": ".py",
   "mimetype": "text/x-python",
   "name": "python",
   "nbconvert_exporter": "python",
   "pygments_lexer": "ipython3",
   "version": "3.7.12"
  }
 },
 "nbformat": 4,
 "nbformat_minor": 5
}
